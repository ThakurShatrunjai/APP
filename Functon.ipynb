for i in range(10):
    print('*',end='')
print('\nHello')
for i in range(10):
    print('*',end='')
print('\nCS Students')
for i in range(10):
    print('*',end='')
print('\nSRM')
for i in range(10):
    print('*',end='')

def example():
    print('Example')
    
example()

def lineofstar():
    for i in range(10):
        print('*',end='')
lineofstar()
print('\nHello')
lineofstar()
print('\nCS Students')
lineofstar()
print('\nSRM')
lineofstar()

